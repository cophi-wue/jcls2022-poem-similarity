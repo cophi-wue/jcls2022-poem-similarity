{
 "cells": [
  {
   "cell_type": "code",
   "execution_count": null,
   "metadata": {},
   "outputs": [],
   "source": [
    "import glob\n",
    "import itertools\n",
    "import os\n",
    "import numpy as np\n",
    "\n",
    "import pandas\n",
    "from gensim.models import KeyedVectors\n",
    "from scipy.spatial.distance import euclidean, minkowski, cosine\n",
    "from sklearn.metrics import balanced_accuracy_score\n",
    "import re\n",
    "import matplotlib.pyplot as plt\n",
    "import seaborn\n",
    "\n",
    "from tqdm.notebook import tqdm\n",
    "\n",
    "sort_alphanum = lambda key: [float(text) if text.isdigit() else text for text in re.split('([-+]?[0-9]*\\.?[0-9]*)', key)]"
   ]
  },
  {
   "cell_type": "code",
   "execution_count": null,
   "metadata": {
    "pycharm": {
     "name": "#%%\n"
    }
   },
   "outputs": [],
   "source": [
    "embeddings = {}\n",
    "\n",
    "for f in glob.glob('./embeddings/*.kv'):\n",
    "    e = KeyedVectors.load(f)\n",
    "    embeddings[os.path.basename(f).split('.')[0]] = e"
   ]
  },
  {
   "cell_type": "code",
   "execution_count": null,
   "metadata": {
    "pycharm": {
     "name": "#%%\n"
    }
   },
   "outputs": [],
   "source": [
    "annotations = pandas.read_csv('./raw_annotations.tsv', sep='\\t', index_col=None)\n",
    "dimensions = ['Content', 'Form', 'Style', 'Emotion', 'Overall']\n",
    "annotated_triples = annotations[['base_ID', 'left_ID', 'right_ID']].drop_duplicates()\n",
    "majority = pandas.DataFrame(index=pandas.MultiIndex.from_arrays(annotated_triples.values.T, names=annotated_triples))\n",
    "\n",
    "for t in majority.index:\n",
    "    sel = annotations['base_ID'] == t[0]\n",
    "    sel &= annotations['left_ID'] == t[1]\n",
    "    sel &= annotations['right_ID'] == t[2]\n",
    "\n",
    "\n",
    "    # goldstandard\n",
    "    if (annotations[sel]['Runde'] == 'FJ+MK+SW').any():\n",
    "        sel &= annotations['Runde'] == 'FJ+MK+SW'\n",
    "\n",
    "    assert len(annotations[sel]['Runde'].unique()) == 1\n",
    "\n",
    "    for d in dimensions:\n",
    "        m = set(annotations[sel][d].mode().values)\n",
    "        if len(m) == 1 and m != {'same'}:\n",
    "            s = next(iter(m))\n",
    "            assert s == 'left' or s == 'right'\n",
    "            majority.loc[t, d] = next(iter(m))\n",
    "        if len(m) == 2 and m != {'left', 'right'}:\n",
    "            s = m - {'same'}\n",
    "            assert s == {'left'} or s == {'right'}\n",
    "            majority.loc[t, d] = next(iter(m - {'same'}))"
   ]
  },
  {
   "cell_type": "code",
   "execution_count": null,
   "metadata": {
    "pycharm": {
     "name": "#%%\n"
    }
   },
   "outputs": [],
   "source": [
    "distfns = {'L2': euclidean, 'L1': lambda u,v: minkowski(u,v,p=1), 'cosine': cosine}\n",
    "\n",
    "def eval_embedding(distfn, triple_vectors, y_true, **args):\n",
    "    y_pred = ['left' if distfn(t[0], t[1]) < distfn(t[0], t[2]) else 'right' for t in triple_vectors]\n",
    "    return balanced_accuracy_score(y_true=y_true, y_pred=y_pred, **args)\n",
    "\n",
    "single_run_df = pandas.DataFrame(index=pandas.MultiIndex.from_product([sorted(embeddings.keys(), key=sort_alphanum), distfns.keys()]), columns=dimensions)\n",
    "with tqdm(total=len(dimensions) * len(embeddings) * len(distfns)) as pbar:\n",
    "    for dim in dimensions:\n",
    "        triples = majority[dim].dropna().index\n",
    "        y = majority[dim][triples].values\n",
    "        for ename, distname in single_run_df.index:\n",
    "            vectors = []\n",
    "            y_true = []\n",
    "            for t, annot in zip(triples, y):\n",
    "                if not set(t) <= set(embeddings[ename].index_to_key):\n",
    "                    continue\n",
    "                vectors.append(embeddings[ename][t])\n",
    "                y_true.append(annot)\n",
    "            vectors = np.array(vectors)\n",
    "            bas = eval_embedding(distfn=distfns[distname], triple_vectors=vectors, y_true=y_true)\n",
    "            single_run_df.loc[(ename, distname), dim] = bas\n",
    "            pbar.update(1)\n"
   ]
  },
  {
   "cell_type": "code",
   "execution_count": null,
   "metadata": {
    "pycharm": {
     "name": "#%%\n"
    }
   },
   "outputs": [],
   "source": [
    "fig, axs = plt.subplots(ncols=3, figsize=(16, len(embeddings)*0.6), sharey=True)\n",
    "cbar_ax = fig.add_axes([0.94, .18, .02, .65])\n",
    "plt.suptitle('Balanced Accuracy Score for each model and dimension', fontsize='x-large')\n",
    "\n",
    "for i, (ax, distname) in enumerate(zip(axs, ['L1', 'cosine', 'L2'])):\n",
    "    x = single_run_df.loc[(slice(None), distname),:].droplevel(level=1)\n",
    "    seaborn.heatmap(x.astype(float), annot=True, ax=ax, vmin=0.5, vmax=0.75, cbar_ax=cbar_ax)\n",
    "    ax.set_title(f'Evaluated on {distname} norm')"
   ]
  },
  {
   "cell_type": "code",
   "execution_count": null,
   "metadata": {
    "pycharm": {
     "name": "#%%\n"
    }
   },
   "outputs": [],
   "source": []
  }
 ],
 "metadata": {
  "kernelspec": {
   "display_name": "Python 3",
   "language": "python",
   "name": "python3"
  },
  "language_info": {
   "codemirror_mode": {
    "name": "ipython",
    "version": 2
   },
   "file_extension": ".py",
   "mimetype": "text/x-python",
   "name": "python",
   "nbconvert_exporter": "python",
   "pygments_lexer": "ipython2",
   "version": "2.7.6"
  }
 },
 "nbformat": 4,
 "nbformat_minor": 0
}
